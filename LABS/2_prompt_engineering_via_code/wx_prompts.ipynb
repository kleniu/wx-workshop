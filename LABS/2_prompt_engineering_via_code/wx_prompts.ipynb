{
 "cells": [
  {
   "cell_type": "markdown",
   "metadata": {},
   "source": [
    "## Advanced Prompt Engineering"
   ]
  },
  {
   "cell_type": "markdown",
   "metadata": {},
   "source": [
    "Welcome to the third part of the lab dedicated to prompt engineering. This time we will query watsonx.ai from the code prepared in Python. "
   ]
  },
  {
   "cell_type": "markdown",
   "metadata": {},
   "source": [
    "1. Load the necessary libraries"
   ]
  },
  {
   "cell_type": "code",
   "execution_count": 26,
   "metadata": {},
   "outputs": [],
   "source": [
    "import os\n",
    "#from dotenv import load_dotenv\n",
    "from ibm_watson_machine_learning.foundation_models.utils.enums import ModelTypes\n",
    "from ibm_watson_machine_learning.foundation_models import Model\n",
    "from ibm_watson_machine_learning.metanames import GenTextParamsMetaNames as GenParams\n",
    "import json "
   ]
  },
  {
   "cell_type": "markdown",
   "metadata": {},
   "source": [
    "2. Upload your credentials to the Watsonx.ai environment\n",
    "    - To obtain api_key, log in to your IBM Cloud account using the itz-watsonx user, then in the Manage tab select Access (IAM), on the left side of the list there will be an API Keys section, where you need to generate a new API key. The generated key should then be copied and completed in the api_key field below.\n",
    "\n",
    "    - As endpoint, use \"https://us-south.ml.cloud.ibm.com\".\n",
    "\n",
    "    - To get the project_id, enter the name of your project, then the Manage tab."
   ]
  },
  {
   "cell_type": "code",
   "execution_count": 27,
   "metadata": {},
   "outputs": [],
   "source": [
    "# models\n",
    "# FLAN_T5_XXL\n",
    "# FLAN_UL2\n",
    "# GPT_NEOX\n",
    "# LLAMA_2_70B_CHAT\n",
    "# MPT_7B_INSTRUCT2\n",
    "# MT0_XXL\n",
    "# STARCODER\n",
    "\n",
    "#Set up your watsonx.ai environment\n",
    "my_credentials = {\n",
    "    \"url\" : \"https://us-south.ml.cloud.ibm.com\",\n",
    "    \"apikey\" : \"PUT_YOUR_APIKEY_HERE\"\n",
    "}\n",
    "project_id = \"PUT_YOUR_PROJECTID_HERE\"\n",
    "\n",
    "def send_to_watsonxai(prompt,\n",
    "                    model_id=ModelTypes.LLAMA_2_70B_CHAT,\n",
    "                    decoding_method=\"greedy\",\n",
    "                    max_new_tokens=500, #maximum value - 500\n",
    "                    min_new_tokens=30, #minimum value - 0\n",
    "                    temperature=1.0,\n",
    "                    repetition_penalty=1.0\n",
    "                    ):\n",
    "    '''\n",
    "   helper function for sending prompts and params to Watsonx.ai\n",
    "    \n",
    "    Args:  \n",
    "        prompts:list list of text prompts\n",
    "        decoding:str Watsonx.ai parameter \"sample\" or \"greedy\"\n",
    "        max_new_tok:int Watsonx.ai parameter for max new tokens/response returned\n",
    "        temp:float Watsonx.ai parameter for temperature (range 0>2)\n",
    "\n",
    "    Returns: None\n",
    "        prints response\n",
    "    '''\n",
    "\n",
    "    space_id = None\n",
    "    verify = False\n",
    "    \n",
    "    generate_params = {\n",
    "        GenParams.DECODING_METHOD: decoding_method,\n",
    "        GenParams.MAX_NEW_TOKENS: max_new_tokens,\n",
    "        GenParams.MIN_NEW_TOKENS: min_new_tokens,\n",
    "        GenParams.TEMPERATURE: temperature,\n",
    "        GenParams.REPETITION_PENALTY: repetition_penalty,\n",
    "        GenParams.RANDOM_SEED: 42\n",
    "    }\n",
    "\n",
    "    # Instantiate a model proxy object to send your requests\n",
    "    model = Model( model_id, my_credentials, generate_params, project_id, space_id, verify )   \n",
    "\n",
    "    result = model.generate(prompt)\n",
    "    print(result[\"results\"])"
   ]
  },
  {
   "cell_type": "code",
   "execution_count": 32,
   "metadata": {},
   "outputs": [
    {
     "name": "stdout",
     "output_type": "stream",
     "text": [
      "[{'generated_text': '{\\n\"names\": [\\n{\\n\"name\": \"Justina Nixon-Saintil\",\\n\"position\": \"IBM Vice President & Chief Impact Officer\"\\n},\\n],\\n\"dates\": [\\n{\\n\"description\": \"announcement date\",\\n\"date\": \"2023-09-18\"\\n},\\n{\\n\"description\": \"training completion date\",\\n\"date\": \"2026-12-31\"\\n}\\n]\\n}', 'generated_token_count': 110, 'input_token_count': 524, 'stop_reason': 'EOS_TOKEN'}]\n"
     ]
    }
   ],
   "source": [
    "#Q1 ENTER YOUR MODEL PARAMS HERE - MAKE SURE IT WORKS WITH ALL 3 EXAMPLES ABOVE\n",
    "\n",
    "\n",
    "prompt = \"\"\"\n",
    "<SYS>You are a very helpful system. You always give correct JSON output. Use only the information in the CONTEXT section and follow the instructions in the INSTRUCTION section.</SYS>\n",
    "<CONTEXT>\n",
    "NEW YORK, Sept. 18, 2023 /PRNewswire/ -- To help close the global artificial intelligence (AI) skills gap, today IBM (NYSE: IBM) announced a commitment to train two million learners in AI by the end of 2026, with a focus on underrepresented communities. To achieve this goal at a global scale, IBM is expanding AI education collaborations with universities globally, collaborating with partners to deliver AI training to adult learners, and launching new generative AI coursework through IBM SkillsBuild. This will expand upon IBM's existing programs and career-building platforms to offer enhanced access to AI education and in-demand technical roles.  \n",
    "According to a recent global study conducted by IBM Institute of Business Value, surveyed executives estimate that implementing AI and automation will require 40% of their workforce to reskill over the next three years, mostly those in entry-level positions. This further reinforces that generative AI is creating a demand for new roles and skills.\n",
    "\"AI skills will be essential to tomorrow's workforce,\" said Justina Nixon-Saintil, IBM Vice President & Chief Impact Officer. \"That's why we are investing in AI training, with a commitment to reach two million learners in three years, and expanding IBM SkillsBuild to collaborate with universities and nonprofits on new generative AI education for learners all over the world.\"\n",
    "</CONTEXT>\n",
    "<INSTRUCTION>\n",
    "Create the JSON doc with names of the person along with position, and dates provided in CONTEXT section like following example JSON output:\n",
    "JSON: \n",
    "{\n",
    "\"names: [ { \"name\" : \"John Doe\", \"position\" : \"president\" } , { \"name\" : \"Jan Kowalski\", \"position\" : \"CIO\" }, ... ],\n",
    "dates: [ { \"description\" : \"article publication date\", \"date\" : \"2023.01.23\" }, ... ]\n",
    "}\n",
    "</INSTRUCTION>\n",
    "\n",
    "JSON:\n",
    "\"\"\"\n",
    "\n",
    "\n",
    "\n",
    "response = send_to_watsonxai(prompt) "
   ]
  },
  {
   "cell_type": "code",
   "execution_count": null,
   "metadata": {},
   "outputs": [],
   "source": []
  }
 ],
 "metadata": {
  "kernelspec": {
   "display_name": "Python 3 (ipykernel)",
   "language": "python",
   "name": "python3"
  },
  "language_info": {
   "codemirror_mode": {
    "name": "ipython",
    "version": 3
   },
   "file_extension": ".py",
   "mimetype": "text/x-python",
   "name": "python",
   "nbconvert_exporter": "python",
   "pygments_lexer": "ipython3",
   "version": "3.11.5"
  }
 },
 "nbformat": 4,
 "nbformat_minor": 4
}
